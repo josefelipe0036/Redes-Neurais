{
 "cells": [
  {
   "cell_type": "code",
   "execution_count": 3,
   "metadata": {},
   "outputs": [],
   "source": [
    "import os\n",
    "import cv2\n",
    "\n",
    "# Caminho do diretório de origem das imagens\n",
    "diretorio_origem = \"/home/jose/UnB/Redes Neurais/trabalho/eurosat_bordas\"\n",
    "\n",
    "# Caminho do diretório de destino para salvar as imagens com qualidade melhorada\n",
    "diretorio_destino = \"/home/jose/UnB/Redes Neurais/trabalho/eurosat_hist\"\n",
    "\n",
    "# Lista as pastas no diretório de origem\n",
    "pastas = [nome_pasta for nome_pasta in os.listdir(diretorio_origem) if os.path.isdir(os.path.join(diretorio_origem, nome_pasta))]\n",
    "\n",
    "# Loop para percorrer cada pasta\n",
    "for pasta in pastas:\n",
    "    # Caminho completo para a pasta de origem\n",
    "    caminho_pasta_origem = os.path.join(diretorio_origem, pasta)\n",
    "    \n",
    "    # Caminho completo para a pasta de destino\n",
    "    caminho_pasta_destino = os.path.join(diretorio_destino, pasta)\n",
    "    \n",
    "    # Cria a pasta de destino (se ainda não existir)\n",
    "    os.makedirs(caminho_pasta_destino, exist_ok=True)\n",
    "    \n",
    "    # Lista os arquivos de imagem na pasta de origem\n",
    "    imagens = [os.path.join(caminho_pasta_origem, nome_arquivo) for nome_arquivo in os.listdir(caminho_pasta_origem) if nome_arquivo.lower().endswith(('.jpg', '.jpeg', '.png'))]\n",
    "    \n",
    "    # Loop para processar cada imagem\n",
    "    for imagem in imagens:\n",
    "        # Carrega a imagem\n",
    "        img = cv2.imread(imagem)\n",
    "        \n",
    "        # Melhora a qualidade da imagem utilizando a função cv2.fastNlMeansDenoisingColored()\n",
    "        img_melhorada = cv2.fastNlMeansDenoisingColored(img, None, 10, 10, 7, 21)\n",
    "        \n",
    "        # Salva a imagem melhorada em uma nova imagem na pasta de destino\n",
    "        nome_arquivo_destino = os.path.join(caminho_pasta_destino, os.path.basename(imagem))\n",
    "        cv2.imwrite(nome_arquivo_destino, img_melhorada)\n"
   ]
  }
 ],
 "metadata": {
  "kernelspec": {
   "display_name": "Python 3",
   "language": "python",
   "name": "python3"
  },
  "language_info": {
   "codemirror_mode": {
    "name": "ipython",
    "version": 3
   },
   "file_extension": ".py",
   "mimetype": "text/x-python",
   "name": "python",
   "nbconvert_exporter": "python",
   "pygments_lexer": "ipython3",
   "version": "3.10.6"
  },
  "orig_nbformat": 4
 },
 "nbformat": 4,
 "nbformat_minor": 2
}
